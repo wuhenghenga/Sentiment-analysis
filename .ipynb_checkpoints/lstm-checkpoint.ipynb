{
 "cells": [
  {
   "cell_type": "code",
   "execution_count": 9,
   "id": "bba87127",
   "metadata": {},
   "outputs": [],
   "source": [
    "import numpy as np\n",
    "import matplotlib.pyplot as plt\n",
    "import re\n",
    "import jieba \n",
    "from gensim.models import word2vec\n",
    "from gensim.models import KeyedVectors\n",
    "import warnings\n",
    "warnings.filterwarnings(\"ignore\")\n",
    "import bz2"
   ]
  },
  {
   "cell_type": "code",
   "execution_count": 10,
   "id": "994047d8",
   "metadata": {},
   "outputs": [],
   "source": [
    "model = word2vec.Word2Vec.load(\"word2vec.model\")"
   ]
  },
  {
   "cell_type": "code",
   "execution_count": 11,
   "id": "0a6ba7a2",
   "metadata": {},
   "outputs": [
    {
     "name": "stdout",
     "output_type": "stream",
     "text": [
      "(300,)\n"
     ]
    },
    {
     "data": {
      "text/plain": [
       "array([ 2.90932000e-01,  5.48643708e-01, -2.16506505e+00,  3.36513609e-01,\n",
       "        2.47728705e-01,  4.92043644e-01, -1.51627886e+00, -2.45004082e+00,\n",
       "       -1.72361815e+00, -1.32436538e+00,  5.04198551e-01,  2.09630251e+00,\n",
       "        6.69495523e-01,  2.07784653e+00,  1.75031662e-01, -1.75407976e-01,\n",
       "        5.76136112e-01, -8.74734938e-01, -3.27660322e-01,  2.19922400e+00,\n",
       "       -1.86345732e+00,  6.28743708e-01, -1.15115225e+00, -1.85449731e+00,\n",
       "        1.74870443e+00, -3.78337920e-01, -3.45603853e-01,  1.00280619e+00,\n",
       "       -7.61909783e-01, -1.17041275e-01, -1.89912066e-01, -1.12100160e+00,\n",
       "       -2.60573006e+00, -9.44244802e-01,  5.88129997e-01,  2.00759220e+00,\n",
       "       -2.16292548e+00,  5.03193915e-01, -5.20386755e-01,  2.31641006e+00,\n",
       "       -9.46303308e-01,  9.90137875e-01,  4.52736467e-01,  3.27827692e-01,\n",
       "        2.40266562e+00, -2.06130862e-01, -7.54303336e-01, -2.45829821e+00,\n",
       "        1.10305202e+00, -1.99524939e+00,  1.85000658e+00,  1.55867726e-01,\n",
       "        8.80778372e-01, -7.81321585e-01, -1.44940639e+00, -2.67847300e-01,\n",
       "        9.53134477e-01, -8.96493554e-01, -1.99966085e+00, -6.22185111e-01,\n",
       "       -1.32718194e+00, -1.29275119e+00, -1.68240976e+00, -2.01600099e+00,\n",
       "        1.78150666e+00,  1.95141649e+00, -4.24740076e+00,  1.99834204e+00,\n",
       "       -1.41485631e+00, -1.19717121e+00, -1.36484969e+00,  7.19289124e-01,\n",
       "       -5.82124174e-01,  7.67182261e-02,  2.24731132e-01, -1.99666977e+00,\n",
       "       -1.16464317e+00, -3.56441915e-01, -4.99014378e-01, -1.26415360e+00,\n",
       "        1.57080710e-01, -6.03484035e-01, -2.58495522e+00,  1.25398171e+00,\n",
       "        4.05415118e-01,  1.99849510e+00,  4.20079857e-01, -4.46905673e-01,\n",
       "       -7.50513151e-02, -1.12491298e+00, -1.99917406e-01,  9.86120999e-01,\n",
       "        2.18013477e+00,  1.43863186e-01,  1.01080525e+00,  6.31565511e-01,\n",
       "       -3.76543641e-01,  9.89677906e-01, -7.09429026e-01,  2.39907241e+00,\n",
       "        1.91721857e+00, -2.93879962e+00,  2.26414657e+00,  9.23464239e-01,\n",
       "        2.88382739e-01,  1.27985692e+00, -1.33754122e+00, -3.63245547e-01,\n",
       "        1.14130557e-01,  5.33748269e-01, -4.17976797e-01,  1.03145003e+00,\n",
       "        6.64237499e-01,  6.87408805e-01, -1.18528366e-01,  1.38716447e+00,\n",
       "        7.81142890e-01, -1.78333902e+00, -3.59981477e-01,  9.27574635e-01,\n",
       "        1.17472410e-01,  1.60586745e-01,  1.77502966e+00,  2.05381244e-01,\n",
       "       -6.26493931e-01, -1.02887499e+00,  9.68178570e-01, -1.43043959e+00,\n",
       "       -8.66638243e-01, -7.41169870e-01, -1.18989132e-01,  8.55006993e-01,\n",
       "        2.33300281e+00,  1.33058608e+00, -7.24400533e-03,  1.73855639e+00,\n",
       "       -3.79210919e-01,  1.82044566e+00, -5.89674711e-01,  1.70911252e+00,\n",
       "       -1.25768274e-01,  1.06578958e+00, -6.39913678e-01,  3.92915994e-01,\n",
       "        1.93371534e+00, -2.21881843e+00, -9.79840398e-01, -2.74492335e+00,\n",
       "        3.70079160e-01,  5.60979664e-01, -1.61983624e-01,  6.80254474e-02,\n",
       "        2.19924855e+00,  1.91261256e+00, -5.46296716e-01, -1.55663109e+00,\n",
       "        1.45968899e-01, -1.69027603e+00,  8.27403247e-01, -5.04325986e-01,\n",
       "        5.68095028e-01, -1.19614005e+00, -4.25162107e-01, -1.15434241e+00,\n",
       "       -6.48234129e-01, -7.29678452e-01,  2.18192697e+00,  1.95282683e-01,\n",
       "        6.83465719e-01, -1.82562494e+00,  2.49114633e+00,  3.24788779e-01,\n",
       "       -8.59736428e-02,  8.28250200e-02,  1.89398670e+00,  3.04248989e-01,\n",
       "        2.33950925e+00, -1.55056965e+00, -4.19856489e-01,  1.12827218e+00,\n",
       "       -1.21023738e+00,  8.21699679e-01, -1.74119210e+00,  7.46854722e-01,\n",
       "       -8.59270394e-02,  1.22541070e+00, -1.86689317e+00, -2.18915299e-01,\n",
       "        2.91347831e-01,  8.02320480e-01,  4.41500783e-01,  1.55058432e+00,\n",
       "        3.27802926e-01,  4.46274161e-01, -7.74551630e-01,  2.32097912e+00,\n",
       "        2.64663076e+00, -1.96774161e+00, -1.55516863e+00, -1.58886063e+00,\n",
       "        1.03178334e+00, -1.09119320e+00, -9.78981495e-01,  7.26681709e-01,\n",
       "        1.19564068e+00,  1.63479066e+00, -1.40831202e-01, -7.42115974e-01,\n",
       "       -3.64608496e-01,  1.76580393e+00,  1.92937136e+00, -3.15146089e-01,\n",
       "        1.33009934e+00,  1.85096171e-02, -7.22829521e-01,  2.21476674e+00,\n",
       "        1.78731382e-01, -7.28250980e-01, -1.69803047e+00, -1.04001574e-01,\n",
       "       -6.34597600e-01, -3.37716013e-01, -1.68254459e+00,  8.28784779e-02,\n",
       "        1.18315232e+00, -6.40465543e-02, -4.08724308e-01, -1.35483336e+00,\n",
       "       -8.42522144e-01,  1.24129683e-01, -1.50859451e+00,  1.77511954e+00,\n",
       "        4.93870638e-02, -1.41547084e+00,  6.21940076e-01,  1.19589603e+00,\n",
       "       -1.88804138e+00,  1.30199909e-01,  1.56886089e+00,  2.00832629e+00,\n",
       "        1.02866042e+00,  2.15840310e-01,  1.03156209e+00,  5.30531645e-01,\n",
       "       -1.48847640e+00,  1.13719392e+00, -5.06179869e-01, -5.00161409e-01,\n",
       "        7.78861105e-01, -8.75723720e-01,  7.49123693e-01,  7.80473828e-01,\n",
       "        1.55944133e+00, -4.89579234e-03,  1.97903574e+00,  1.69730201e-01,\n",
       "       -4.48084138e-02, -1.18446910e+00,  1.08931732e+00, -4.53728363e-02,\n",
       "        9.96115685e-01,  7.12640405e-01, -1.59676945e+00,  6.61904812e-01,\n",
       "        6.93857223e-02,  3.58712580e-03, -5.10340869e-01, -9.94570553e-01,\n",
       "       -1.03213944e-01, -3.59019488e-01,  1.02698660e+00,  8.74296069e-01,\n",
       "       -2.16527843e+00,  1.31899977e+00, -1.68634915e+00,  8.33792686e-01,\n",
       "       -1.67892396e-01,  1.67559195e+00, -4.41064864e-01, -8.49759817e-01,\n",
       "        5.64816236e-01,  2.78459221e-01, -8.80678654e-01,  1.17623532e+00,\n",
       "       -3.66027665e+00,  1.20155704e+00, -4.43217158e-01, -1.12157083e+00,\n",
       "       -4.47864026e-01,  2.30141616e+00,  1.62238523e-01,  9.32586268e-02,\n",
       "       -2.10479379e+00,  1.15509069e+00, -1.07824373e+00, -2.39114240e-01,\n",
       "       -1.27755737e+00, -1.03408836e-01, -2.53962159e-01, -7.73550510e-01],\n",
       "      dtype=float32)"
      ]
     },
     "execution_count": 11,
     "metadata": {},
     "output_type": "execute_result"
    }
   ],
   "source": [
    "vec = model.wv['工程師']\n",
    "print(vec.shape)\n",
    "vec "
   ]
  },
  {
   "cell_type": "code",
   "execution_count": 12,
   "id": "b5dbb6a8",
   "metadata": {},
   "outputs": [
    {
     "data": {
      "text/plain": [
       "[('欺詐', 0.7233021855354309),\n",
       " ('詐騙', 0.6043367385864258),\n",
       " ('竊盜', 0.5643879175186157),\n",
       " ('慣犯', 0.5433253049850464),\n",
       " ('背信', 0.5428200960159302),\n",
       " ('詐欺罪', 0.526416540145874),\n",
       " ('賭博', 0.5190569162368774),\n",
       " ('共犯', 0.5187450647354126),\n",
       " ('偷竊', 0.5183759927749634),\n",
       " ('逃稅', 0.5112699866294861)]"
      ]
     },
     "execution_count": 12,
     "metadata": {},
     "output_type": "execute_result"
    }
   ],
   "source": [
    "model.wv.most_similar(\"詐欺\")"
   ]
  },
  {
   "cell_type": "code",
   "execution_count": 13,
   "id": "91d24f21",
   "metadata": {},
   "outputs": [
    {
     "name": "stdout",
     "output_type": "stream",
     "text": [
      "在 老師 會計師 工程師 律師 醫生 老人 中:\n",
      "不是一類的詞為: 老人\n"
     ]
    }
   ],
   "source": [
    "# 找出不同的詞\n",
    "test_words = '老師 會計師 工程師 律師 醫生 老人'\n",
    "test_words_result = model.wv.doesnt_match(test_words.split())\n",
    "print('在 '+test_words+' 中:\\n不是一類的詞為: %s' %test_words_result)"
   ]
  },
  {
   "cell_type": "code",
   "execution_count": 14,
   "id": "13fe9648",
   "metadata": {},
   "outputs": [],
   "source": [
    "train_texts_orig = []\n",
    "#文本所對應的labels\n",
    "train_target = []\n",
    "with open(\"positive_tw_samples.txt\", \"r\", encoding=\"utf-8\") as f:\n",
    "    lines = f.readlines()\n",
    "    for line in lines:\n",
    "        dic = eval(line)\n",
    "        train_texts_orig.append(dic[\"text\"])\n",
    "        train_target.append(dic[\"label\"])\n",
    "\n",
    "with open(\"negative_tw_samples.txt\", \"r\", encoding=\"utf-8\") as f:\n",
    "    lines = f.readlines()\n",
    "    for line in lines:\n",
    "        dic = eval(line)\n",
    "        train_texts_orig.append(dic[\"text\"])\n",
    "        train_target.append(dic[\"label\"])"
   ]
  },
  {
   "cell_type": "code",
   "execution_count": 15,
   "id": "50df8beb",
   "metadata": {},
   "outputs": [
    {
     "data": {
      "text/plain": [
       "4000"
      ]
     },
     "execution_count": 15,
     "metadata": {},
     "output_type": "execute_result"
    }
   ],
   "source": [
    "len(train_texts_orig)"
   ]
  },
  {
   "cell_type": "code",
   "execution_count": 16,
   "id": "d2cd44c8",
   "metadata": {},
   "outputs": [],
   "source": [
    "from tensorflow.keras.models import Sequential\n",
    "from tensorflow.keras.layers import Dense, GRU, Embedding, LSTM, Bidirectional, Dropout\n",
    "from tensorflow.keras.preprocessing.text import Tokenizer\n",
    "from tensorflow.keras.preprocessing.sequence import pad_sequences\n",
    "from tensorflow.keras.optimizers import RMSprop\n",
    "from tensorflow.keras.optimizers import Adam\n",
    "from tensorflow.keras.callbacks import EarlyStopping, ModelCheckpoint, TensorBoard, ReduceLROnPlateau"
   ]
  },
  {
   "cell_type": "markdown",
   "id": "beda85f0",
   "metadata": {},
   "source": [
    "## 分詞和tokenize"
   ]
  },
  {
   "cell_type": "code",
   "execution_count": 17,
   "id": "2daf1b8f",
   "metadata": {},
   "outputs": [],
   "source": [
    "# 進行分詞和tokenize\n",
    "# train_tokens是一個長長的list，其中含有4000个小list，對應著每一條評價\n",
    "train_tokens = []\n",
    "for text in train_texts_orig:\n",
    "    # 去標點\n",
    "    text = re.sub(\"[\\s+\\.\\!\\/_,$%^*(+\\\"\\']+|[+——！，。？、~@#￥%……&*（）]+\", \"\",text)\n",
    "    # 結巴分詞\n",
    "    cut = jieba.cut(text)\n",
    "    # 結巴分詞的輸出結果為一個生成器\n",
    "    # 把生成器轉換為list\n",
    "    cut_list = [ i for i in cut ]\n",
    "    for i, word in enumerate(cut_list):\n",
    "        try:\n",
    "            # 將詞轉換為索引\n",
    "            cut_list[i] = model.wv.key_to_index[word]\n",
    "        except KeyError:\n",
    "            # 如果詞不存在的話就為0\n",
    "            cut_list[i] = 0\n",
    "    train_tokens.append(cut_list)"
   ]
  },
  {
   "cell_type": "code",
   "execution_count": 18,
   "id": "81e69e17",
   "metadata": {},
   "outputs": [],
   "source": [
    "# 獲得所有的token長度\n",
    "num_tokens = [ len(tokens) for tokens in train_tokens ]\n",
    "num_tokens = np.array(num_tokens)"
   ]
  },
  {
   "cell_type": "code",
   "execution_count": 19,
   "id": "1e9a605a",
   "metadata": {},
   "outputs": [
    {
     "data": {
      "text/plain": [
       "72.665"
      ]
     },
     "execution_count": 19,
     "metadata": {},
     "output_type": "execute_result"
    }
   ],
   "source": [
    "# 平均token的長度\n",
    "np.mean(num_tokens)"
   ]
  },
  {
   "cell_type": "code",
   "execution_count": 20,
   "id": "c9b311b2",
   "metadata": {},
   "outputs": [
    {
     "data": {
      "text/plain": [
       "1586"
      ]
     },
     "execution_count": 20,
     "metadata": {},
     "output_type": "execute_result"
    }
   ],
   "source": [
    "# 最長評價token的長度\n",
    "np.max(num_tokens)"
   ]
  },
  {
   "cell_type": "code",
   "execution_count": 21,
   "id": "8a0b3ec9",
   "metadata": {},
   "outputs": [
    {
     "data": {
      "image/png": "[encoded data removed]",
      "text/plain": [
       "<Figure size 432x288 with 1 Axes>"
      ]
     },
     "metadata": {
      "needs_background": "light"
     },
     "output_type": "display_data"
    }
   ],
   "source": [
    "plt.hist((num_tokens), bins = 100)\n",
    "plt.xlim((0,300))\n",
    "plt.ylabel('number of tokens')\n",
    "plt.xlabel('length of tokens')\n",
    "plt.title('Distribution of tokens length')\n",
    "plt.show()"
   ]
  },
  {
   "cell_type": "code",
   "execution_count": 22,
   "id": "a342a67d",
   "metadata": {},
   "outputs": [
    {
     "data": {
      "text/plain": [
       "241"
      ]
     },
     "execution_count": 22,
     "metadata": {},
     "output_type": "execute_result"
    }
   ],
   "source": [
    "# 取token的平均值加上兩個token的標準差\n",
    "max_tokens = np.mean(num_tokens) + 2 * np.std(num_tokens)\n",
    "max_tokens = int(max_tokens)\n",
    "max_tokens"
   ]
  },
  {
   "cell_type": "code",
   "execution_count": 23,
   "id": "f76b5a73",
   "metadata": {},
   "outputs": [
    {
     "data": {
      "text/plain": [
       "0.95675"
      ]
     },
     "execution_count": 23,
     "metadata": {},
     "output_type": "execute_result"
    }
   ],
   "source": [
    "# 取token的長度為241時，大約95%的樣本被覆蓋\n",
    "# 對長度不足的進行padding,超長的進行修剪\n",
    "np.sum( num_tokens < max_tokens ) / len(num_tokens)"
   ]
  },
  {
   "cell_type": "markdown",
   "id": "76cbf444",
   "metadata": {},
   "source": [
    "## 反向tokenize"
   ]
  },
  {
   "cell_type": "code",
   "execution_count": 24,
   "id": "cae28458",
   "metadata": {},
   "outputs": [],
   "source": [
    "# 用来将tokens转换为文本\n",
    "def reverse_tokens(tokens):\n",
    "    text = ''\n",
    "    for i in tokens:\n",
    "        if i != 0:\n",
    "            text = text + model.wv.index_to_key[i]\n",
    "        else:\n",
    "            text = text + ' '\n",
    "    return text"
   ]
  },
  {
   "cell_type": "code",
   "execution_count": 25,
   "id": "14b37aec",
   "metadata": {},
   "outputs": [],
   "source": [
    "reverse = reverse_tokens(train_tokens[0])"
   ]
  },
  {
   "cell_type": "code",
   "execution_count": 26,
   "id": "b270a364",
   "metadata": {},
   "outputs": [
    {
     "data": {
      "text/plain": [
       "'早餐太差無論去多少人那邊也不加食品 酒店應該重視一下這個問題 房間本身很好'"
      ]
     },
     "execution_count": 26,
     "metadata": {},
     "output_type": "execute_result"
    }
   ],
   "source": [
    "reverse"
   ]
  },
  {
   "cell_type": "code",
   "execution_count": 27,
   "id": "f24d8806",
   "metadata": {},
   "outputs": [
    {
     "data": {
      "text/plain": [
       "'早餐太差，無論去多少人，那邊也不加食品的。酒店應該重視一下這個問題了。\\n\\n房間本身很好。'"
      ]
     },
     "execution_count": 27,
     "metadata": {},
     "output_type": "execute_result"
    }
   ],
   "source": [
    "# 原始文本\n",
    "train_texts_orig[0]"
   ]
  },
  {
   "cell_type": "markdown",
   "id": "dc0f4e58",
   "metadata": {},
   "source": [
    "## 準備Embedding Matrix"
   ]
  },
  {
   "cell_type": "code",
   "execution_count": 28,
   "id": "6495a5f1",
   "metadata": {},
   "outputs": [
    {
     "name": "stdout",
     "output_type": "stream",
     "text": [
      "(968788, 300)\n"
     ]
    }
   ],
   "source": [
    "embedding_dim = vec.shape[0]\n",
    "print(model.wv.vectors.shape)"
   ]
  },
  {
   "cell_type": "code",
   "execution_count": 29,
   "id": "f11638ac",
   "metadata": {},
   "outputs": [],
   "source": [
    "# 50000\n",
    "num_words = 50000\n",
    "# 初始化embedding_matrix，之後在keras上進行應用\n",
    "embedding_matrix = np.zeros((num_words, embedding_dim))\n",
    "# embedding_matrix為一個 [num_words，embedding_dim] 的矩陣\n",
    "# 維度為 50000 * 300\n",
    "for i in range(num_words):\n",
    "    embedding_matrix[i,:] = model.wv[model.wv.index_to_key[i]]\n",
    "embedding_matrix = embedding_matrix.astype('float32')"
   ]
  },
  {
   "cell_type": "code",
   "execution_count": 30,
   "id": "50971023",
   "metadata": {},
   "outputs": [
    {
     "data": {
      "text/plain": [
       "300"
      ]
     },
     "execution_count": 30,
     "metadata": {},
     "output_type": "execute_result"
    }
   ],
   "source": [
    "# 檢查index是否對應\n",
    "# 输出300意义为长度为300的embedding向量一一对应\n",
    "np.sum( model.wv[model.wv.index_to_key[0]] == embedding_matrix[0] )"
   ]
  },
  {
   "cell_type": "code",
   "execution_count": 31,
   "id": "de3218f3",
   "metadata": {},
   "outputs": [
    {
     "data": {
      "text/plain": [
       "(50000, 300)"
      ]
     },
     "execution_count": 31,
     "metadata": {},
     "output_type": "execute_result"
    }
   ],
   "source": [
    "# embedding_matrix的維度j\n",
    "embedding_matrix.shape"
   ]
  },
  {
   "cell_type": "markdown",
   "id": "d1ca439b",
   "metadata": {},
   "source": [
    "## padding（填充）和truncating（修剪）"
   ]
  },
  {
   "cell_type": "code",
   "execution_count": 32,
   "id": "94ea50a1",
   "metadata": {},
   "outputs": [],
   "source": [
    "#進行padding和truncating， 輸入的train_tokens是一个list\n",
    "# 返回的train_pad是一個numpy array\n",
    "train_pad = pad_sequences(train_tokens, maxlen=max_tokens,\n",
    "                            padding='pre', truncating='pre')"
   ]
  },
  {
   "cell_type": "code",
   "execution_count": 33,
   "id": "10e0df94",
   "metadata": {},
   "outputs": [],
   "source": [
    "# 超出50000個詞用0代替\n",
    "train_pad[ train_pad>=num_words ] = 0"
   ]
  },
  {
   "cell_type": "code",
   "execution_count": 34,
   "id": "d7e27b87",
   "metadata": {},
   "outputs": [
    {
     "data": {
      "text/plain": [
       "array([    0,     0,     0,     0,     0,     0,     0,     0,     0,\n",
       "           0,     0,     0,     0,     0,     0,     0,     0,     0,\n",
       "           0,     0,     0,     0,     0,     0,     0,     0,     0,\n",
       "           0,     0,     0,     0,     0,     0,     0,     0,     0,\n",
       "           0,     0,     0,     0,     0,     0,     0,     0,     0,\n",
       "           0,     0,     0,     0,     0,     0,     0,     0,     0,\n",
       "           0,     0,     0,     0,     0,     0,     0,     0,     0,\n",
       "           0,     0,     0,     0,     0,     0,     0,     0,     0,\n",
       "           0,     0,     0,     0,     0,     0,     0,     0,     0,\n",
       "           0,     0,     0,     0,     0,     0,     0,     0,     0,\n",
       "           0,     0,     0,     0,     0,     0,     0,     0,     0,\n",
       "           0,     0,     0,     0,     0,     0,     0,     0,     0,\n",
       "           0,     0,     0,     0,     0,     0,     0,     0,     0,\n",
       "           0,     0,     0,     0,     0,     0,     0,     0,     0,\n",
       "           0,     0,     0,     0,     0,     0,     0,     0,     0,\n",
       "           0,     0,     0,     0,     0,     0,     0,     0,     0,\n",
       "           0,     0,     0,     0,     0,     0,     0,     0,     0,\n",
       "           0,     0,     0,     0,  3484,   901,   390,   244,    33,\n",
       "           0,   360,     0,   420,   801,     0,     0,     0,     7,\n",
       "           0,     4,  8721, 12317,     0,   344,     0,    55,   496,\n",
       "           0,   552,     0,  6911,     0,     0, 27127,     0,     0,\n",
       "         244,  7954,     0,   332, 28710,   390,   244,     0,     0,\n",
       "           0,   426, 16251, 19625,   901,  7321,     0,  3157,     0,\n",
       "          55,   954, 16527,     0,     0,     0,     0,     0,     0,\n",
       "           0,     0,     0, 40746, 46408,     0,     0,   901,   390,\n",
       "         244,  3178,     0, 11571,     0, 49903,     0,     0,  2053,\n",
       "         954,     0,     0,    55,     0,     0,  1427])"
      ]
     },
     "execution_count": 34,
     "metadata": {},
     "output_type": "execute_result"
    }
   ],
   "source": [
    "train_pad[33]"
   ]
  },
  {
   "cell_type": "code",
   "execution_count": 35,
   "id": "81719011",
   "metadata": {},
   "outputs": [],
   "source": [
    "# 準備target向量，前2000樣本為1，后2000為0\n",
    "train_target = np.array(train_target)"
   ]
  },
  {
   "cell_type": "code",
   "execution_count": 36,
   "id": "f609c9d6",
   "metadata": {},
   "outputs": [],
   "source": [
    "# 進行訓練和測試樣本的分割\n",
    "from sklearn.model_selection import train_test_split"
   ]
  },
  {
   "cell_type": "code",
   "execution_count": 37,
   "id": "945e7cfc",
   "metadata": {},
   "outputs": [],
   "source": [
    "# 90%的樣本原來訓練，屬於的10%用來測試\n",
    "X_train, X_test, y_train, y_test = train_test_split(train_pad,\n",
    "                                                    train_target,\n",
    "                                                    test_size=0.1,\n",
    "                                                    random_state=12)"
   ]
  },
  {
   "cell_type": "code",
   "execution_count": 106,
   "id": "fbe9e2c1",
   "metadata": {},
   "outputs": [],
   "source": [
    "# 用LSTM對樣本進行分類\n",
    "lstm_model = Sequential()"
   ]
  },
  {
   "cell_type": "code",
   "execution_count": 107,
   "id": "2452a508",
   "metadata": {},
   "outputs": [],
   "source": [
    "# 模型第一層為embedding\n",
    "lstm_model.add(Embedding(num_words,\n",
    "                    embedding_dim,\n",
    "                    weights=[embedding_matrix],\n",
    "                    input_length=max_tokens,\n",
    "                    trainable=False))"
   ]
  },
  {
   "cell_type": "code",
   "execution_count": 108,
   "id": "ef27226e",
   "metadata": {},
   "outputs": [],
   "source": [
    "# lstm_model.add(Bidirectional(LSTM(units=32, return_sequences=True)))\n",
    "# lstm_model.add(Bidirectional(LSTM(units=16)))\n",
    "lstm_model.add(LSTM(units=50, return_sequences=False))\n",
    "\n",
    "# lstm_model.add(GRU(units=32, return_sequences=True))\n",
    "# lstm_model.add(GRU(units=16, return_sequences=True))\n",
    "# lstm_model.add(GRU(units=4, return_sequences=False))\n",
    "lstm_model.add(Dropout(0.5))"
   ]
  },
  {
   "cell_type": "code",
   "execution_count": 109,
   "id": "e4e06dae",
   "metadata": {},
   "outputs": [],
   "source": [
    "lstm_model.add(Dense(1, activation='sigmoid'))\n",
    "optimizer = Adam(lr=1e-3)"
   ]
  },
  {
   "cell_type": "code",
   "execution_count": 110,
   "id": "09abb3a1",
   "metadata": {},
   "outputs": [],
   "source": [
    "lstm_model.compile(loss='binary_crossentropy',\n",
    "              optimizer=optimizer,\n",
    "              metrics=['accuracy'])"
   ]
  },
  {
   "cell_type": "code",
   "execution_count": 111,
   "id": "910c0d84",
   "metadata": {},
   "outputs": [
    {
     "name": "stdout",
     "output_type": "stream",
     "text": [
      "Model: \"sequential_4\"\n",
      "_________________________________________________________________\n",
      "Layer (type)                 Output Shape              Param #   \n",
      "=================================================================\n",
      "embedding_4 (Embedding)      (None, 241, 300)          15000000  \n",
      "_________________________________________________________________\n",
      "bidirectional_2 (Bidirection (None, 241, 64)           85248     \n",
      "_________________________________________________________________\n",
      "bidirectional_3 (Bidirection (None, 32)                10368     \n",
      "_________________________________________________________________\n",
      "dropout_4 (Dropout)          (None, 32)                0         \n",
      "_________________________________________________________________\n",
      "dense_4 (Dense)              (None, 1)                 33        \n",
      "=================================================================\n",
      "Total params: 15,095,649\n",
      "Trainable params: 95,649\n",
      "Non-trainable params: 15,000,000\n",
      "_________________________________________________________________\n"
     ]
    }
   ],
   "source": [
    "lstm_model.summary()"
   ]
  },
  {
   "cell_type": "code",
   "execution_count": 112,
   "id": "a525f914",
   "metadata": {},
   "outputs": [],
   "source": [
    "# 建立一個權重的儲存點\n",
    "path_checkpoint = 'sentiment_checkpoint.keras'\n",
    "checkpoint = ModelCheckpoint(filepath=path_checkpoint, monitor='val_loss',\n",
    "                                      verbose=1, save_weights_only=True,\n",
    "                                      save_best_only=True)"
   ]
  },
  {
   "cell_type": "code",
   "execution_count": 113,
   "id": "9cd1343e",
   "metadata": {},
   "outputs": [
    {
     "name": "stdout",
     "output_type": "stream",
     "text": [
      "You are trying to load a weight file containing 3 layers into a model with 4 layers.\n"
     ]
    }
   ],
   "source": [
    "# 加載訓練的模型\n",
    "try:\n",
    "    lstm_model.load_weights(path_checkpoint)\n",
    "except Exception as e:\n",
    "    print(e)"
   ]
  },
  {
   "cell_type": "code",
   "execution_count": 114,
   "id": "88feaa81",
   "metadata": {},
   "outputs": [],
   "source": [
    "# 定義early stoping如果3個epoch内validation loss沒有改善則停止訓練\n",
    "earlystopping = EarlyStopping(monitor='val_loss', patience=3, verbose=1)\n",
    "# 自動降低learning rate\n",
    "lr_reduction = ReduceLROnPlateau(monitor='val_loss',\n",
    "                                       factor=0.1, min_lr=1e-5, patience=0,\n",
    "                                       verbose=1)"
   ]
  },
  {
   "cell_type": "code",
   "execution_count": 115,
   "id": "e7b580c0",
   "metadata": {},
   "outputs": [],
   "source": [
    "# 定義callback函數\n",
    "callbacks = [\n",
    "    earlystopping, \n",
    "    checkpoint,\n",
    "    lr_reduction\n",
    "]"
   ]
  },
  {
   "cell_type": "code",
   "execution_count": 116,
   "id": "6c357457",
   "metadata": {},
   "outputs": [
    {
     "name": "stdout",
     "output_type": "stream",
     "text": [
      "Epoch 1/20\n",
      "26/26 [==============================] - ETA: 0s - loss: 0.6636 - accuracy: 0.5969\n",
      "Epoch 00001: val_loss improved from inf to 0.58237, saving model to sentiment_checkpoint.keras\n",
      "26/26 [==============================] - 10s 393ms/step - loss: 0.6636 - accuracy: 0.5969 - val_loss: 0.5824 - val_accuracy: 0.7444\n",
      "Epoch 2/20\n",
      "26/26 [==============================] - ETA: 0s - loss: 0.5430 - accuracy: 0.7497\n",
      "Epoch 00002: val_loss improved from 0.58237 to 0.48298, saving model to sentiment_checkpoint.keras\n",
      "26/26 [==============================] - 8s 326ms/step - loss: 0.5430 - accuracy: 0.7497 - val_loss: 0.4830 - val_accuracy: 0.7944\n",
      "Epoch 3/20\n",
      "26/26 [==============================] - ETA: 0s - loss: 0.5497 - accuracy: 0.7426\n",
      "Epoch 00003: val_loss did not improve from 0.48298\n",
      "\n",
      "Epoch 00003: ReduceLROnPlateau reducing learning rate to 0.00010000000474974513.\n",
      "26/26 [==============================] - 8s 306ms/step - loss: 0.5497 - accuracy: 0.7426 - val_loss: 0.5342 - val_accuracy: 0.7639\n",
      "Epoch 4/20\n",
      "26/26 [==============================] - ETA: 0s - loss: 0.4942 - accuracy: 0.7873\n",
      "Epoch 00004: val_loss did not improve from 0.48298\n",
      "\n",
      "Epoch 00004: ReduceLROnPlateau reducing learning rate to 1.0000000474974514e-05.\n",
      "26/26 [==============================] - 8s 303ms/step - loss: 0.4942 - accuracy: 0.7873 - val_loss: 0.5038 - val_accuracy: 0.7806\n",
      "Epoch 5/20\n",
      "26/26 [==============================] - ETA: 0s - loss: 0.4745 - accuracy: 0.8012\n",
      "Epoch 00005: val_loss did not improve from 0.48298\n",
      "\n",
      "Epoch 00005: ReduceLROnPlateau reducing learning rate to 1e-05.\n",
      "26/26 [==============================] - 9s 328ms/step - loss: 0.4745 - accuracy: 0.8012 - val_loss: 0.5032 - val_accuracy: 0.7806\n",
      "Epoch 00005: early stopping\n"
     ]
    },
    {
     "data": {
      "text/plain": [
       "<tensorflow.python.keras.callbacks.History at 0x2b72b14ef88>"
      ]
     },
     "execution_count": 116,
     "metadata": {},
     "output_type": "execute_result"
    }
   ],
   "source": [
    "# 開始訓練\n",
    "lstm_model.fit(X_train, y_train,\n",
    "          validation_split=0.1, \n",
    "          epochs=20,\n",
    "          batch_size=128,\n",
    "          callbacks=callbacks)"
   ]
  },
  {
   "cell_type": "code",
   "execution_count": 117,
   "id": "6354c3a6",
   "metadata": {},
   "outputs": [
    {
     "name": "stdout",
     "output_type": "stream",
     "text": [
      "13/13 [==============================] - 1s 43ms/step - loss: 0.5273 - accuracy: 0.7800\n",
      "Accuracy:78.00%\n"
     ]
    }
   ],
   "source": [
    "result = lstm_model.evaluate(X_test, y_test)\n",
    "print('Accuracy:{0:.2%}'.format(result[1]))"
   ]
  },
  {
   "cell_type": "code",
   "execution_count": 118,
   "id": "487f60ab",
   "metadata": {},
   "outputs": [],
   "source": [
    "def predict_sentiment(text):\n",
    "    print(text)\n",
    "    # 去標點\n",
    "    text = re.sub(\"[\\s+\\.\\!\\/_,$%^*(+\\\"\\']+|[+——！，。？、~@#￥%……&*（）]+\", \"\",text)\n",
    "    # 分詞\n",
    "    cut = jieba.cut(text)\n",
    "    cut_list = [ i for i in cut ]\n",
    "    # tokenize\n",
    "    for i, word in enumerate(cut_list):\n",
    "        try:\n",
    "            cut_list[i] = model.wv.key_to_index[word]\n",
    "            if cut_list[i] >= 50000:\n",
    "                cut_list[i] = 0\n",
    "        except KeyError:\n",
    "            cut_list[i] = 0\n",
    "    # padding\n",
    "    tokens_pad = pad_sequences([cut_list], maxlen=max_tokens,\n",
    "                           padding='pre', truncating='pre')\n",
    "    # 預測\n",
    "    result = lstm_model.predict(x=tokens_pad)\n",
    "    coef = result[0][0]\n",
    "    if coef >= 0.5:\n",
    "        print('是一例正面評價','output=%.2f'%coef)\n",
    "    else:\n",
    "        print('是一例負面評價','output=%.2f'%coef)"
   ]
  },
  {
   "cell_type": "code",
   "execution_count": 119,
   "id": "84b31aca",
   "metadata": {
    "scrolled": true
   },
   "outputs": [
    {
     "name": "stdout",
     "output_type": "stream",
     "text": [
      "酒店的設施不是新的，服務態度很不好\n",
      "是一例負面評價 output=0.47\n",
      "酒店衛生條件很差\n",
      "是一例負面評價 output=0.21\n",
      "床鋪非常舒適,服務很好\n",
      "是一例正面評價 output=0.85\n",
      "很適合一個人入住價格不高，房間乾淨且有洗衣機陽台和自用廁所，床鋪也是舒適的，還能寄放行李，位置部分雖然不是非常四通八達的地點，但在巷內相對就較安靜，車站走路約15分鐘，個人覺得輕便行李下是方便的，已經入住過兩次，下次如果一個人來一樣會選擇。\n",
      "是一例正面評價 output=0.67\n",
      "酒店隔音很不好\n",
      "是一例負面評價 output=0.44\n",
      "位置很好,床蠻舒適的。\n",
      "是一例正面評價 output=0.83\n"
     ]
    }
   ],
   "source": [
    "test_list = [\n",
    "    '酒店的設施不是新的，服務態度很不好',\n",
    "    '酒店衛生條件很差',\n",
    "    '床鋪非常舒適,服務很好',\n",
    "    '很適合一個人入住價格不高，房間乾淨且有洗衣機陽台和自用廁所，床鋪也是舒適的，還能寄放行李，位置部分雖然不是非常四通八達的地點，但在巷內相對就較安靜，車站走路約15分鐘，個人覺得輕便行李下是方便的，已經入住過兩次，下次如果一個人來一樣會選擇。',\n",
    "    '酒店隔音很不好',\n",
    "    '位置很好,床蠻舒適的。'\n",
    "]\n",
    "for text in test_list:\n",
    "    predict_sentiment(text)"
   ]
  },
  {
   "cell_type": "code",
   "execution_count": null,
   "id": "794c4d5d",
   "metadata": {},
   "outputs": [],
   "source": []
  },
  {
   "cell_type": "code",
   "execution_count": null,
   "id": "416e8005",
   "metadata": {},
   "outputs": [],
   "source": []
  }
 ],
 "metadata": {
  "kernelspec": {
   "display_name": "Python 3 (ipykernel)",
   "language": "python",
   "name": "python3"
  },
  "language_info": {
   "codemirror_mode": {
    "name": "ipython",
    "version": 3
   },
   "file_extension": ".py",
   "mimetype": "text/x-python",
   "name": "python",
   "nbconvert_exporter": "python",
   "pygments_lexer": "ipython3",
   "version": "3.7.11"
  }
 },
 "nbformat": 4,
 "nbformat_minor": 5
}
